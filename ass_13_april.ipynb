{
 "cells": [
  {
   "cell_type": "code",
   "execution_count": 1,
   "id": "2676d74b",
   "metadata": {},
   "outputs": [],
   "source": [
    "import pandas as pd\n",
    "import numpy as np\n",
    "import seaborn as sns"
   ]
  },
  {
   "cell_type": "code",
   "execution_count": 5,
   "id": "aac329de",
   "metadata": {},
   "outputs": [
    {
     "name": "stdout",
     "output_type": "stream",
     "text": [
      "                            Customer_ID        Full_Name  \\\n",
      "0  c0856824-7d7c-430f-9a19-c0b2f60b07bf     David Golden   \n",
      "1  1fcb2b58-fa35-431d-8fd9-9aa3a166c1ac      Tyrone Sosa   \n",
      "2  be6837ce-cef3-43a6-8df2-eba82fdc865c  Johnny Robinson   \n",
      "3  8b3e6fe3-e298-4c22-812c-c9f68027c3b4        Jon Brown   \n",
      "4  1662caf4-2744-4892-80b5-e49b72960864  Blake Rodriguez   \n",
      "\n",
      "                      Email           Phone_Number              City  \\\n",
      "0        lori21@hotmail.com  001-235-010-7432x2345       Rodgersport   \n",
      "1      jonesblake@yahoo.com        +1-972-930-7776      Martinezfort   \n",
      "2        alicia56@yahoo.com       883-274-4926x716  East Phillipside   \n",
      "3        joseph77@gmail.com      643-559-3577x4618     Thompsonhaven   \n",
      "4  tannerwilliams@yahoo.com             7550004131      East Gabriel   \n",
      "\n",
      "            Country Date_of_Birth Signup_Date  Total_Purchase Customer_Status  \n",
      "0           Germany    1967-06-18  2020-08-17          198.30        inactive  \n",
      "1             Aruba    1936-01-22  2020-08-10          272.90        inactive  \n",
      "2  Saint Barthelemy    1975-12-08  2023-09-27          335.13          Active  \n",
      "3         Indonesia    1960-08-24  2022-01-10          367.51             NaN  \n",
      "4          Kiribati    1976-12-13  2024-04-28           70.98             NaN  \n"
     ]
    }
   ],
   "source": [
    "#import dataset\n",
    "df = pd.read_csv(r'C:\\Users\\Grace\\Desktop\\13apr_2025\\dirty_customer_data_100k.csv')\n",
    "print(df.head(5))"
   ]
  },
  {
   "cell_type": "code",
   "execution_count": 6,
   "id": "3476850b",
   "metadata": {},
   "outputs": [
    {
     "name": "stdout",
     "output_type": "stream",
     "text": [
      "                            Customer_ID        Full_Name  \\\n",
      "0  c0856824-7d7c-430f-9a19-c0b2f60b07bf     David Golden   \n",
      "1  1fcb2b58-fa35-431d-8fd9-9aa3a166c1ac      Tyrone Sosa   \n",
      "2  be6837ce-cef3-43a6-8df2-eba82fdc865c  Johnny Robinson   \n",
      "3  8b3e6fe3-e298-4c22-812c-c9f68027c3b4        Jon Brown   \n",
      "4  1662caf4-2744-4892-80b5-e49b72960864  Blake Rodriguez   \n",
      "\n",
      "                      Email           Phone_Number              City  \\\n",
      "0        lori21@hotmail.com  001-235-010-7432x2345       Rodgersport   \n",
      "1      jonesblake@yahoo.com        +1-972-930-7776      Martinezfort   \n",
      "2        alicia56@yahoo.com       883-274-4926x716  East Phillipside   \n",
      "3        joseph77@gmail.com      643-559-3577x4618     Thompsonhaven   \n",
      "4  tannerwilliams@yahoo.com             7550004131      East Gabriel   \n",
      "\n",
      "            Country Date_of_Birth Signup_Date  Total_Purchase Customer_Status  \n",
      "0           Germany    1967-06-18  2020-08-17          198.30        inactive  \n",
      "1             Aruba    1936-01-22  2020-08-10          272.90        inactive  \n",
      "2  Saint Barthelemy    1975-12-08  2023-09-27          335.13          Active  \n",
      "3         Indonesia    1960-08-24  2022-01-10          367.51             NaN  \n",
      "4          Kiribati    1976-12-13  2024-04-28           70.98             NaN  \n"
     ]
    }
   ],
   "source": [
    "#How can you remove all duplicate customer records based on the entire row or a specific column like Email or Phone_Number?\n",
    "df.drop_duplicates(subset=['Email', 'Phone_Number'], keep='first', inplace=True)\n",
    "print(df.head(5))"
   ]
  },
  {
   "cell_type": "code",
   "execution_count": 7,
   "id": "f248b961",
   "metadata": {},
   "outputs": [
    {
     "name": "stderr",
     "output_type": "stream",
     "text": [
      "C:\\Users\\Grace\\AppData\\Local\\Temp\\ipykernel_7740\\1910388951.py:2: FutureWarning: A value is trying to be set on a copy of a DataFrame or Series through chained assignment using an inplace method.\n",
      "The behavior will change in pandas 3.0. This inplace method will never work because the intermediate object on which we are setting values always behaves as a copy.\n",
      "\n",
      "For example, when doing 'df[col].method(value, inplace=True)', try using 'df.method({col: value}, inplace=True)' or df[col] = df[col].method(value) instead, to perform the operation inplace on the original object.\n",
      "\n",
      "\n",
      "  df['Customer_Status'].fillna('Unknown', inplace=True)\n",
      "C:\\Users\\Grace\\AppData\\Local\\Temp\\ipykernel_7740\\1910388951.py:3: FutureWarning: A value is trying to be set on a copy of a DataFrame or Series through chained assignment using an inplace method.\n",
      "The behavior will change in pandas 3.0. This inplace method will never work because the intermediate object on which we are setting values always behaves as a copy.\n",
      "\n",
      "For example, when doing 'df[col].method(value, inplace=True)', try using 'df.method({col: value}, inplace=True)' or df[col] = df[col].method(value) instead, to perform the operation inplace on the original object.\n",
      "\n",
      "\n",
      "  df['Email'].fillna('No Email', inplace=True)\n"
     ]
    }
   ],
   "source": [
    "#How would you handle missing values in columns like Customer_Status or Email — would you drop them, fill them, or flag them, and why?\n",
    "df['Customer_Status'].fillna('Unknown', inplace=True)\n",
    "df['Email'].fillna('No Email', inplace=True)"
   ]
  },
  {
   "cell_type": "code",
   "execution_count": 8,
   "id": "f67af1db",
   "metadata": {},
   "outputs": [
    {
     "name": "stdout",
     "output_type": "stream",
     "text": [
      "Index(['customer_id', 'full_name', 'email', 'phone_number', 'city', 'country',\n",
      "       'date_of_birth', 'signup_date', 'total_purchase', 'customer_status'],\n",
      "      dtype='object')\n"
     ]
    }
   ],
   "source": [
    "##How can you standardize column names so they are consistent (e.g., lowercase, no spaces, no special characters)?\n",
    "df.columns = df.columns.str.lower().str.replace(' ', '_').str.replace(r'[^a-zA-Z0-9_]', '', regex=True)\n",
    "print(df.columns)"
   ]
  },
  {
   "cell_type": "code",
   "execution_count": 11,
   "id": "1bea1515",
   "metadata": {},
   "outputs": [
    {
     "name": "stdout",
     "output_type": "stream",
     "text": [
      "  date_of_birth signup_date\n",
      "0    1967-06-18  2020-08-17\n",
      "1    1936-01-22  2020-08-10\n",
      "2    1975-12-08  2023-09-27\n",
      "3    1960-08-24  2022-01-10\n",
      "4    1976-12-13  2024-04-28\n",
      "5    1944-03-19  2020-11-03\n",
      "6    1994-12-20  2024-07-17\n",
      "7    1948-10-05  2021-09-15\n",
      "8    1984-04-12  2023-12-15\n",
      "9    1994-06-03  2022-11-12\n"
     ]
    }
   ],
   "source": [
    "##How can you convert the Date_of_Birth and Signup_Date columns into proper datetime format and handle invalid dates?\n",
    "df['date_of_birth'] = pd.to_datetime(df['date_of_birth'], errors='coerce')\n",
    "df['signup_date'] = pd.to_datetime(df['signup_date'], errors='coerce')\n",
    "print(df[['date_of_birth', 'signup_date']].head(10))"
   ]
  },
  {
   "cell_type": "code",
   "execution_count": 12,
   "id": "7ca4ffef",
   "metadata": {},
   "outputs": [
    {
     "name": "stdout",
     "output_type": "stream",
     "text": [
      "  date_of_birth signup_date\n",
      "0    18-06-1967  17-08-2020\n",
      "1    22-01-1936  10-08-2020\n",
      "2    08-12-1975  27-09-2023\n",
      "3    24-08-1960  10-01-2022\n",
      "4    13-12-1976  28-04-2024\n",
      "5    19-03-1944  03-11-2020\n",
      "6    20-12-1994  17-07-2024\n",
      "7    05-10-1948  15-09-2021\n",
      "8    12-04-1984  15-12-2023\n",
      "9    03-06-1994  12-11-2022\n"
     ]
    }
   ],
   "source": [
    "df['date_of_birth'] = df['date_of_birth'].dt.strftime('%d-%m-%Y')\n",
    "df['signup_date'] = df['signup_date'].dt.strftime('%d-%m-%Y')\n",
    "print(df[['date_of_birth', 'signup_date']].head(10))"
   ]
  },
  {
   "cell_type": "code",
   "execution_count": 13,
   "id": "9a8b6d59",
   "metadata": {},
   "outputs": [
    {
     "name": "stdout",
     "output_type": "stream",
     "text": [
      "0        David Golden\n",
      "1         Tyrone Sosa\n",
      "2     Johnny Robinson\n",
      "3           Jon Brown\n",
      "4     Blake Rodriguez\n",
      "5           Todd Dunn\n",
      "6        Pamela Meyer\n",
      "7     Robert Davidson\n",
      "8    Jennifer Parrish\n",
      "9     Jennifer Miller\n",
      "Name: full_name, dtype: object\n"
     ]
    }
   ],
   "source": [
    "##How would you clean up the Full_Name column to remove extra spaces, numbers, or special characters (e.g., Mr., #, @)?\n",
    "df['full_name'] = df['full_name'].str.replace(r'[^a-zA-Z\\s]', '', regex=True).str.strip()\n",
    "print(df['full_name'].head(10))"
   ]
  },
  {
   "cell_type": "code",
   "execution_count": 14,
   "id": "8edaece9",
   "metadata": {},
   "outputs": [
    {
     "name": "stdout",
     "output_type": "stream",
     "text": [
      "['inactive' 'active' 'unknown' 'actve']\n"
     ]
    }
   ],
   "source": [
    "##How can you normalize values in the Customer_Status column (e.g., Active, active, ACTIVE, Inactive, etc.) to a consistent format?\n",
    "df['customer_status'] = df['customer_status'].str.lower().str.strip()\n",
    "print(df['customer_status'].unique())"
   ]
  },
  {
   "cell_type": "code",
   "execution_count": 15,
   "id": "23a2f7dd",
   "metadata": {},
   "outputs": [
    {
     "name": "stdout",
     "output_type": "stream",
     "text": [
      "  first_name  last_name\n",
      "0      David     Golden\n",
      "1     Tyrone       Sosa\n",
      "2     Johnny   Robinson\n",
      "3        Jon      Brown\n",
      "4      Blake  Rodriguez\n",
      "5       Todd       Dunn\n",
      "6     Pamela      Meyer\n",
      "7     Robert   Davidson\n",
      "8   Jennifer    Parrish\n",
      "9   Jennifer     Miller\n"
     ]
    }
   ],
   "source": [
    "##How can you split the Full_Name column into First_Name and Last_Name columns for easier processing?\n",
    "df[['first_name', 'last_name']] = df['full_name'].str.split(' ', n=1, expand=True)\n",
    "print(df[['first_name', 'last_name']].head(10))"
   ]
  },
  {
   "cell_type": "code",
   "execution_count": 17,
   "id": "d67d198d",
   "metadata": {},
   "outputs": [
    {
     "name": "stderr",
     "output_type": "stream",
     "text": [
      "C:\\Users\\Grace\\AppData\\Local\\Temp\\ipykernel_7740\\2320171780.py:3: UserWarning: Parsing dates in %d-%m-%Y format when dayfirst=False (the default) was specified. Pass `dayfirst=True` or specify a format to silence this warning.\n",
      "  df['date_of_birth'] = pd.to_datetime(df['date_of_birth'], errors='coerce')\n"
     ]
    }
   ],
   "source": [
    "##How would you create a new column Age based on the Date_of_Birth, and how would you filter out unrealistic ages (e.g., <0 or >100)?\n",
    "# Ensure date_of_birth is in datetime format\n",
    "df['date_of_birth'] = pd.to_datetime(df['date_of_birth'], errors='coerce')\n",
    "\n",
    "# Calculate age and filter unrealistic ages\n",
    "df['age'] = (pd.to_datetime('today') - df['date_of_birth']).dt.days // 365\n",
    "df = df[(df['age'] >= 0) & (df['age'] <= 100)]"
   ]
  },
  {
   "cell_type": "code",
   "execution_count": 19,
   "id": "5a4cecb1",
   "metadata": {},
   "outputs": [
    {
     "name": "stdout",
     "output_type": "stream",
     "text": [
      "               email\n",
      "15   john@@gmail.com\n",
      "25   john@@gmail.com\n",
      "34   john@@gmail.com\n",
      "59   john@@gmail.com\n",
      "85   john@@gmail.com\n",
      "90   john@@gmail.com\n",
      "149  john@@gmail.com\n",
      "158  john@@gmail.com\n",
      "212  john@@gmail.com\n",
      "276  john@@gmail.com\n"
     ]
    }
   ],
   "source": [
    "##How can you identify customers with invalid Email addresses (e.g., missing '@', missing domain) using string or regex functions?\n",
    "invalid_email_mask = ~df['email'].str.contains(r'^[a-zA-Z0-9_.+-]+@[a-zA-Z0-9-]+\\.[a-zA-Z0-9-.]+$', regex=True)\n",
    "invalid_emails = df[invalid_email_mask]\n",
    "print(invalid_emails[['email']].head(10))"
   ]
  },
  {
   "cell_type": "code",
   "execution_count": 20,
   "id": "40c0899d",
   "metadata": {},
   "outputs": [
    {
     "name": "stdout",
     "output_type": "stream",
     "text": [
      "1      +19729307776\n",
      "11     +16216805850\n",
      "36     +17344887292\n",
      "55     +18714464334\n",
      "68     +18397134179\n",
      "102    +18814521153\n",
      "144    +12086581194\n",
      "145    +19456291137\n",
      "155    +13556811820\n",
      "208    +17930798806\n",
      "Name: phone_number, dtype: object\n"
     ]
    }
   ],
   "source": [
    "##How would you detect and remove phone numbers that are malformed, contain letters, or don’t match a specific pattern like international format (+country-code)?   \n",
    "df['phone_number'] = df['phone_number'].str.replace(r'[^0-9+]', '', regex=True)\n",
    "valid_phone_mask = df['phone_number'].str.match(r'^\\+\\d{1,3}\\d{10}$')\n",
    "df = df[valid_phone_mask]\n",
    "print(df['phone_number'].head(10))"
   ]
  },
  {
   "cell_type": "code",
   "execution_count": 21,
   "id": "15136c67",
   "metadata": {},
   "outputs": [],
   "source": [
    "df.to_csv('assignment13april.csv', index=False)"
   ]
  }
 ],
 "metadata": {
  "kernelspec": {
   "display_name": "Python 3",
   "language": "python",
   "name": "python3"
  },
  "language_info": {
   "codemirror_mode": {
    "name": "ipython",
    "version": 3
   },
   "file_extension": ".py",
   "mimetype": "text/x-python",
   "name": "python",
   "nbconvert_exporter": "python",
   "pygments_lexer": "ipython3",
   "version": "3.13.1"
  }
 },
 "nbformat": 4,
 "nbformat_minor": 5
}
