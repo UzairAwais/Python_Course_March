{
 "cells": [
  {
   "cell_type": "code",
   "execution_count": 1,
   "metadata": {},
   "outputs": [],
   "source": [
    "import pandas as pd"
   ]
  },
  {
   "cell_type": "code",
   "execution_count": 8,
   "metadata": {},
   "outputs": [
    {
     "name": "stdout",
     "output_type": "stream",
     "text": [
      "    ID     Name  Age         City  Salary\n",
      "0    1    Grace   52      Houston   51976\n",
      "1    2    David   31     New York   74262\n",
      "2    3   Hannah   34      Houston   53776\n",
      "3    4     Emma   53  Los Angeles   60080\n",
      "4    5    Grace   57     New York   96842\n",
      "5    6    Julia   21        Miami   91373\n",
      "6    7  Charlie   19      Chicago   36776\n",
      "7    8    Grace   23      Houston   85016\n",
      "8    9   Hannah   59      Chicago   39474\n",
      "9   10     Emma   21      Chicago   88053\n",
      "10  11    David   46     New York   51959\n",
      "11  12   Hannah   35      Chicago   35530\n",
      "12  13   Hannah   43        Miami   33748\n",
      "13  14  Charlie   51      Chicago   43545\n",
      "14  15    Frank   27     New York   96199\n",
      "15  16     Emma   53        Miami   64766\n",
      "16  17      Bob   31  Los Angeles   91087\n",
      "17  18   Hannah   48      Chicago   98840\n",
      "18  19    Frank   32     New York   84384\n",
      "19  20      Bob   25  Los Angeles   81005\n",
      "20  21     Emma   31  Los Angeles   76576\n",
      "21  22    Alice   40      Houston   69353\n",
      "22  23    Julia   57        Miami   92003\n",
      "23  24    Frank   38      Chicago   82733\n",
      "24  25      Ian   33     New York   95318\n",
      "25  26    Alice   35      Houston   53664\n",
      "26  27    Julia   41        Miami   97172\n",
      "27  28  Charlie   43      Houston   56736\n",
      "28  29    Grace   42        Miami   30854\n",
      "29  30    David   58        Miami   68623\n",
      "30  31      Ian   46      Chicago   37392\n",
      "31  32  Charlie   32        Miami   85680\n",
      "32  33     Emma   18      Houston   76717\n",
      "33  34  Charlie   42        Miami   80859\n",
      "34  35    Grace   24      Chicago   56309\n",
      "35  36     Emma   26      Chicago   93734\n",
      "36  37      Ian   41      Houston   82662\n",
      "37  38    Grace   18  Los Angeles   42688\n",
      "38  39      Bob   25  Los Angeles   55342\n",
      "39  40    David   41        Miami   67157\n",
      "40  41      Ian   28     New York   97863\n",
      "41  42      Bob   34        Miami   82083\n",
      "42  43    Julia   25      Houston   95733\n",
      "43  44      Ian   52      Houston   64698\n",
      "44  45    Julia   52      Houston   52671\n",
      "45  46     Emma   50      Houston   55184\n",
      "46  47      Bob   22      Houston   72107\n",
      "47  48    David   59      Chicago   81663\n",
      "48  49    Grace   56  Los Angeles   45708\n",
      "49  50   Hannah   58      Houston   79811\n",
      "   ID    Name  Age         City  Salary\n",
      "0   1   Grace   52      Houston   51976\n",
      "1   2   David   31     New York   74262\n",
      "2   3  Hannah   34      Houston   53776\n",
      "3   4    Emma   53  Los Angeles   60080\n",
      "4   5   Grace   57     New York   96842\n"
     ]
    }
   ],
   "source": [
    "df = pd.read_csv(r'C:\\Users\\Grace\\Desktop\\python\\Python_Sample_Data.csv')\n",
    "print(df)\n",
    "print(df.head(5))"
   ]
  },
  {
   "cell_type": "code",
   "execution_count": null,
   "metadata": {},
   "outputs": [
    {
     "name": "stdout",
     "output_type": "stream",
     "text": [
      "    ID     Name  Age         City  Salary\n",
      "0    1    Grace   52      Houston   51976\n",
      "1    2    David   31     New York   74262\n",
      "2    3   Hannah   34      Houston   53776\n",
      "3    4     Emma   53  Los Angeles   60080\n",
      "4    5    Grace   57     New York   96842\n",
      "8    9   Hannah   59      Chicago   39474\n",
      "10  11    David   46     New York   51959\n",
      "11  12   Hannah   35      Chicago   35530\n",
      "12  13   Hannah   43        Miami   33748\n",
      "13  14  Charlie   51      Chicago   43545\n",
      "15  16     Emma   53        Miami   64766\n",
      "16  17      Bob   31  Los Angeles   91087\n",
      "17  18   Hannah   48      Chicago   98840\n",
      "18  19    Frank   32     New York   84384\n",
      "20  21     Emma   31  Los Angeles   76576\n",
      "21  22    Alice   40      Houston   69353\n",
      "22  23    Julia   57        Miami   92003\n",
      "23  24    Frank   38      Chicago   82733\n",
      "24  25      Ian   33     New York   95318\n",
      "25  26    Alice   35      Houston   53664\n",
      "26  27    Julia   41        Miami   97172\n",
      "27  28  Charlie   43      Houston   56736\n",
      "28  29    Grace   42        Miami   30854\n",
      "29  30    David   58        Miami   68623\n",
      "30  31      Ian   46      Chicago   37392\n",
      "31  32  Charlie   32        Miami   85680\n",
      "33  34  Charlie   42        Miami   80859\n",
      "36  37      Ian   41      Houston   82662\n",
      "39  40    David   41        Miami   67157\n",
      "41  42      Bob   34        Miami   82083\n",
      "43  44      Ian   52      Houston   64698\n",
      "44  45    Julia   52      Houston   52671\n",
      "45  46     Emma   50      Houston   55184\n",
      "47  48    David   59      Chicago   81663\n",
      "48  49    Grace   56  Los Angeles   45708\n",
      "49  50   Hannah   58      Houston   79811\n"
     ]
    }
   ],
   "source": [
    "#Age is great than 30\n",
    "filtered_df = df[df['Age'] > 30]\n",
    "print(filtered_df)"
   ]
  },
  {
   "cell_type": "code",
   "execution_count": null,
   "metadata": {},
   "outputs": [
    {
     "name": "stdout",
     "output_type": "stream",
     "text": [
      "The average salary is: 69755.68\n"
     ]
    }
   ],
   "source": [
    "#calculate the average salary\n",
    "average_salary = df['Salary'].mean()\n",
    "print(f\"The average salary is: {average_salary}\")"
   ]
  },
  {
   "cell_type": "code",
   "execution_count": 11,
   "metadata": {},
   "outputs": [
    {
     "name": "stdout",
     "output_type": "stream",
     "text": [
      "New column 'Bonus' added and results exported to CSV.\n"
     ]
    }
   ],
   "source": [
    "# Add a new column for 10% bonus on salary\n",
    "df['Bonus'] = df['Salary'] * 0.10\n",
    "\n",
    "# Export the updated DataFrame to a CSV file\n",
    "df.to_csv(r'C:\\Users\\Grace\\Desktop\\python\\Updated_Data_with_Bonus.csv', index=False)\n",
    "\n",
    "print(\"New column 'Bonus' added and results exported to CSV.\")"
   ]
  },
  {
   "cell_type": "code",
   "execution_count": null,
   "metadata": {},
   "outputs": [],
   "source": []
  },
  {
   "cell_type": "code",
   "execution_count": null,
   "metadata": {},
   "outputs": [
    {
     "name": "stdout",
     "output_type": "stream",
     "text": [
      "The minimum salary is: 30854\n",
      "The maximum salary is: 98840\n"
     ]
    }
   ],
   "source": [
    "# calculate the minimum and maximum salary\n",
    "min_salary = df['Salary'].min()\n",
    "max_salary = df['Salary'].max()\n",
    "\n",
    "print(f\"The minimum salary is: {min_salary}\")\n",
    "print(f\"The maximum salary is: {max_salary}\")"
   ]
  },
  {
   "cell_type": "code",
   "execution_count": null,
   "metadata": {},
   "outputs": [
    {
     "name": "stdout",
     "output_type": "stream",
     "text": [
      "The number of unique cities is: 5\n"
     ]
    }
   ],
   "source": [
    "# calculate the number of unique cities\n",
    "unique_cities_count = df['City'].nunique()\n",
    "print(f\"The number of unique cities is: {unique_cities_count}\")"
   ]
  },
  {
   "cell_type": "code",
   "execution_count": 14,
   "metadata": {},
   "outputs": [
    {
     "name": "stdout",
     "output_type": "stream",
     "text": [
      "    ID     Name  Age         City  Salary   Bonus\n",
      "47  48    David   59      Chicago   81663  8166.3\n",
      "8    9   Hannah   59      Chicago   39474  3947.4\n",
      "49  50   Hannah   58      Houston   79811  7981.1\n",
      "29  30    David   58        Miami   68623  6862.3\n",
      "4    5    Grace   57     New York   96842  9684.2\n",
      "22  23    Julia   57        Miami   92003  9200.3\n",
      "48  49    Grace   56  Los Angeles   45708  4570.8\n",
      "15  16     Emma   53        Miami   64766  6476.6\n",
      "3    4     Emma   53  Los Angeles   60080  6008.0\n",
      "44  45    Julia   52      Houston   52671  5267.1\n",
      "43  44      Ian   52      Houston   64698  6469.8\n",
      "0    1    Grace   52      Houston   51976  5197.6\n",
      "13  14  Charlie   51      Chicago   43545  4354.5\n",
      "45  46     Emma   50      Houston   55184  5518.4\n",
      "17  18   Hannah   48      Chicago   98840  9884.0\n",
      "30  31      Ian   46      Chicago   37392  3739.2\n",
      "10  11    David   46     New York   51959  5195.9\n",
      "12  13   Hannah   43        Miami   33748  3374.8\n",
      "27  28  Charlie   43      Houston   56736  5673.6\n",
      "33  34  Charlie   42        Miami   80859  8085.9\n",
      "28  29    Grace   42        Miami   30854  3085.4\n",
      "26  27    Julia   41        Miami   97172  9717.2\n",
      "39  40    David   41        Miami   67157  6715.7\n",
      "36  37      Ian   41      Houston   82662  8266.2\n",
      "21  22    Alice   40      Houston   69353  6935.3\n",
      "23  24    Frank   38      Chicago   82733  8273.3\n",
      "25  26    Alice   35      Houston   53664  5366.4\n",
      "11  12   Hannah   35      Chicago   35530  3553.0\n",
      "2    3   Hannah   34      Houston   53776  5377.6\n",
      "41  42      Bob   34        Miami   82083  8208.3\n",
      "24  25      Ian   33     New York   95318  9531.8\n",
      "31  32  Charlie   32        Miami   85680  8568.0\n",
      "18  19    Frank   32     New York   84384  8438.4\n",
      "16  17      Bob   31  Los Angeles   91087  9108.7\n",
      "1    2    David   31     New York   74262  7426.2\n",
      "20  21     Emma   31  Los Angeles   76576  7657.6\n",
      "40  41      Ian   28     New York   97863  9786.3\n",
      "14  15    Frank   27     New York   96199  9619.9\n",
      "35  36     Emma   26      Chicago   93734  9373.4\n",
      "19  20      Bob   25  Los Angeles   81005  8100.5\n",
      "42  43    Julia   25      Houston   95733  9573.3\n",
      "38  39      Bob   25  Los Angeles   55342  5534.2\n",
      "34  35    Grace   24      Chicago   56309  5630.9\n",
      "7    8    Grace   23      Houston   85016  8501.6\n",
      "46  47      Bob   22      Houston   72107  7210.7\n",
      "5    6    Julia   21        Miami   91373  9137.3\n",
      "9   10     Emma   21      Chicago   88053  8805.3\n",
      "6    7  Charlie   19      Chicago   36776  3677.6\n",
      "37  38    Grace   18  Los Angeles   42688  4268.8\n",
      "32  33     Emma   18      Houston   76717  7671.7\n"
     ]
    }
   ],
   "source": [
    "# Sort the DataFrame by age in descending order\n",
    "df_sorted_by_age = df.sort_values(by='Age', ascending=False)\n",
    "print(df_sorted_by_age)"
   ]
  },
  {
   "cell_type": "code",
   "execution_count": 15,
   "metadata": {},
   "outputs": [
    {
     "name": "stdout",
     "output_type": "stream",
     "text": [
      "Data exported to 'ages_descending.csv'.\n"
     ]
    }
   ],
   "source": [
    "df_sorted_by_age.to_csv('ages_descending.csv', index=False)\n",
    "print(\"Data exported to 'ages_descending.csv'.\")"
   ]
  },
  {
   "cell_type": "code",
   "execution_count": 16,
   "metadata": {},
   "outputs": [
    {
     "name": "stdout",
     "output_type": "stream",
     "text": [
      "City\n",
      "Chicago        63095.363636\n",
      "Houston        67864.571429\n",
      "Los Angeles    64640.857143\n",
      "Miami          72210.727273\n",
      "New York       85261.000000\n",
      "Name: Salary, dtype: float64\n"
     ]
    }
   ],
   "source": [
    "#Group daa by city and calculate the average salary\n",
    "average_salary_by_city = df.groupby('City')['Salary'].mean()\n",
    "print(average_salary_by_city)"
   ]
  },
  {
   "cell_type": "code",
   "execution_count": null,
   "metadata": {},
   "outputs": [],
   "source": []
  },
  {
   "cell_type": "code",
   "execution_count": 17,
   "metadata": {},
   "outputs": [
    {
     "name": "stdout",
     "output_type": "stream",
     "text": [
      "All calculations have been saved to 'final_assignment.csv'.\n"
     ]
    }
   ],
   "source": [
    "# final file & merge all calculations\n",
    "calculations = {\n",
    "    'Metric': ['Average Salary', 'Minimum Salary', 'Maximum Salary', 'Unique Cities Count'],\n",
    "    'Value': [average_salary, min_salary, max_salary, unique_cities_count]\n",
    "}\n",
    "\n",
    "# Convert the dictionary to a DataFrame\n",
    "calculations_df = pd.DataFrame(calculations)\n",
    "\n",
    "# Save the DataFrame to a CSV file\n",
    "calculations_df.to_csv('final_assignment.csv', index=False)\n",
    "\n",
    "print(\"All calculations have been saved to 'final_assignment.csv'.\")"
   ]
  },
  {
   "cell_type": "code",
   "execution_count": 18,
   "metadata": {},
   "outputs": [
    {
     "name": "stdout",
     "output_type": "stream",
     "text": [
      "Detailed CSV file with all changes has been saved as 'final_score.csv'.\n"
     ]
    }
   ],
   "source": [
    "# Save the updated DataFrame with all changes to a detailed CSV file\n",
    "df.to_csv('final_score.csv', index=False)\n",
    "\n",
    "print(\"Detailed CSV file with all changes has been saved as 'final_score.csv'.\")"
   ]
  },
  {
   "cell_type": "code",
   "execution_count": null,
   "metadata": {},
   "outputs": [],
   "source": []
  },
  {
   "cell_type": "code",
   "execution_count": null,
   "metadata": {},
   "outputs": [],
   "source": []
  }
 ],
 "metadata": {
  "kernelspec": {
   "display_name": "Python 3",
   "language": "python",
   "name": "python3"
  },
  "language_info": {
   "codemirror_mode": {
    "name": "ipython",
    "version": 3
   },
   "file_extension": ".py",
   "mimetype": "text/x-python",
   "name": "python",
   "nbconvert_exporter": "python",
   "pygments_lexer": "ipython3",
   "version": "3.13.1"
  }
 },
 "nbformat": 4,
 "nbformat_minor": 2
}
